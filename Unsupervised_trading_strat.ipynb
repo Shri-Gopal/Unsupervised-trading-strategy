{
 "cells": [
  {
   "cell_type": "markdown",
   "id": "6314bda8-d3b4-4674-b815-7cd474a4e40a",
   "metadata": {},
   "source": [
    "## Unsupervised Trading Strategy."
   ]
  },
  {
   "cell_type": "code",
   "execution_count": 7,
   "id": "64b7e906-eab4-4f29-a173-62f99a8070d5",
   "metadata": {},
   "outputs": [
    {
     "name": "stdout",
     "output_type": "stream",
     "text": [
      "Collecting pandas_ta\n",
      "  Using cached pandas_ta-0.3.14b0-py3-none-any.whl\n",
      "Requirement already satisfied: pandas in c:\\users\\shrig\\anaconda3\\lib\\site-packages (from pandas_ta) (2.2.2)\n",
      "Requirement already satisfied: numpy>=1.26.0 in c:\\users\\shrig\\anaconda3\\lib\\site-packages (from pandas->pandas_ta) (1.26.4)\n",
      "Requirement already satisfied: python-dateutil>=2.8.2 in c:\\users\\shrig\\anaconda3\\lib\\site-packages (from pandas->pandas_ta) (2.9.0.post0)\n",
      "Requirement already satisfied: pytz>=2020.1 in c:\\users\\shrig\\anaconda3\\lib\\site-packages (from pandas->pandas_ta) (2024.1)\n",
      "Requirement already satisfied: tzdata>=2022.7 in c:\\users\\shrig\\anaconda3\\lib\\site-packages (from pandas->pandas_ta) (2023.3)\n",
      "Requirement already satisfied: six>=1.5 in c:\\users\\shrig\\anaconda3\\lib\\site-packages (from python-dateutil>=2.8.2->pandas->pandas_ta) (1.16.0)\n",
      "Installing collected packages: pandas_ta\n",
      "Successfully installed pandas_ta-0.3.14b0\n"
     ]
    },
    {
     "name": "stderr",
     "output_type": "stream",
     "text": [
      "\n",
      "[notice] A new release of pip is available: 25.0.1 -> 25.1.1\n",
      "[notice] To update, run: python.exe -m pip install --upgrade pip\n"
     ]
    }
   ],
   "source": [
    "!pip install pandas_ta"
   ]
  },
  {
   "cell_type": "code",
   "execution_count": 11,
   "id": "0cd62c94-47ed-4022-94d9-ae3d57b1072c",
   "metadata": {},
   "outputs": [],
   "source": [
    "#import packages\n",
    "\n",
    "from statsmodels.regression.rolling import RollingOLS\n",
    "import pandas_datareader.data as web\n",
    "import matplotlib.pyplot as plt\n",
    "import statsmodels.api as sm\n",
    "import pandas as pd\n",
    "import numpy as np\n",
    "import datetime as dt\n",
    "import yfinance as yf\n",
    "import pandas_ta\n",
    "import warnings\n",
    "warnings.filterwarnings('ignore')"
   ]
  },
  {
   "cell_type": "code",
   "execution_count": null,
   "id": "ac045ce7-8f4e-4456-ae93-d8eacb70a913",
   "metadata": {},
   "outputs": [],
   "source": []
  },
  {
   "cell_type": "code",
   "execution_count": null,
   "id": "a71789c0-466d-4549-a5a5-c9e235c28db0",
   "metadata": {},
   "outputs": [],
   "source": []
  }
 ],
 "metadata": {
  "kernelspec": {
   "display_name": "Python 3 (ipykernel)",
   "language": "python",
   "name": "python3"
  },
  "language_info": {
   "codemirror_mode": {
    "name": "ipython",
    "version": 3
   },
   "file_extension": ".py",
   "mimetype": "text/x-python",
   "name": "python",
   "nbconvert_exporter": "python",
   "pygments_lexer": "ipython3",
   "version": "3.12.4"
  }
 },
 "nbformat": 4,
 "nbformat_minor": 5
}
